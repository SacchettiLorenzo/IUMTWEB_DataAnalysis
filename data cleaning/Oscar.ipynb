{
 "cells": [
  {
   "cell_type": "code",
   "id": "initial_id",
   "metadata": {
    "collapsed": true
   },
   "source": [
    "import numpy as np\n",
    "import pandas as pd\n",
    "import pymongo"
   ],
   "outputs": [],
   "execution_count": null
  },
  {
   "metadata": {},
   "cell_type": "code",
   "source": [
    "oscar_df = pd.read_csv('../../dataset/the_oscar_awards.csv')\n",
    "oscar_df"
   ],
   "id": "6a6bcd348be7dbac",
   "outputs": [],
   "execution_count": null
  },
  {
   "metadata": {},
   "cell_type": "code",
   "source": "oscar_df.dtypes",
   "id": "e6e89517f28bc0de",
   "outputs": [],
   "execution_count": null
  },
  {
   "metadata": {},
   "cell_type": "code",
   "source": [
    "oscar_df['category'] = oscar_df['category'].astype(pd.StringDtype())\n",
    "oscar_df['name'] = oscar_df['name'].astype(pd.StringDtype())\n",
    "oscar_df['film'] = oscar_df['film'].astype(pd.StringDtype())"
   ],
   "id": "2a7d1ff4b975bbb",
   "outputs": [],
   "execution_count": null
  },
  {
   "metadata": {},
   "cell_type": "code",
   "source": "oscar_df.dtypes",
   "id": "f23641e944a7d957",
   "outputs": [],
   "execution_count": null
  },
  {
   "metadata": {},
   "cell_type": "code",
   "source": "oscar_df.loc[oscar_df.isna().any(axis=1)]",
   "id": "83fe40d02b340719",
   "outputs": [],
   "execution_count": null
  },
  {
   "metadata": {},
   "cell_type": "code",
   "source": "#oscar_df = oscar_df.loc[~oscar_df.isna().any(axis=1)].copy()",
   "id": "445597a563660395",
   "outputs": [],
   "execution_count": null
  },
  {
   "metadata": {},
   "cell_type": "code",
   "source": "oscar_df.loc[oscar_df.duplicated(subset=['category','name','film']) & ~oscar_df['film'].isna()]",
   "id": "5005275f49fe7c48",
   "outputs": [],
   "execution_count": null
  },
  {
   "metadata": {},
   "cell_type": "code",
   "source": "oscar_df = oscar_df.loc[~oscar_df.duplicated(subset=['category','name','film']) & ~oscar_df['film'].isna()]",
   "id": "3f3270163d4f38fa",
   "outputs": [],
   "execution_count": null
  },
  {
   "metadata": {},
   "cell_type": "code",
   "source": "oscar_df",
   "id": "852ee104cea2aef8",
   "outputs": [],
   "execution_count": null
  },
  {
   "metadata": {},
   "cell_type": "code",
   "source": "oscar_df = oscar_df.replace({np.nan: None})",
   "id": "67972dd341566f5f",
   "outputs": [],
   "execution_count": null
  },
  {
   "metadata": {},
   "cell_type": "code",
   "source": [
    "oscar_grouped = []\n",
    "for movie , group in oscar_df.groupby('film'):\n",
    "    oscars = group.apply(lambda row:{\n",
    "        \"year_film\": row['year_film'],\n",
    "        \"year_ceremony\": row['year_ceremony'],\n",
    "        \"ceremony\": row['ceremony'],\n",
    "        \"category\": row['category'],\n",
    "        \"name\": row['name'],\n",
    "        \"film\": row['film'],\n",
    "        \"winner\": row['winner'],\n",
    "    }, axis=1).tolist()\n",
    "\n",
    "    oscar_grouped.append({\n",
    "        \"movie_title\" : movie ,\n",
    "        \"oscars\" : oscars\n",
    "    })"
   ],
   "id": "e224abd5ca32f509",
   "outputs": [],
   "execution_count": null
  },
  {
   "metadata": {},
   "cell_type": "code",
   "source": "oscar_df.to_csv('../../dataset/cleaned/.csv', index=False)",
   "id": "2cf476e128f4095a",
   "outputs": [],
   "execution_count": null
  },
  {
   "metadata": {},
   "cell_type": "code",
   "source": [
    "myclient = pymongo.MongoClient(\"mongodb://localhost:27017/\")\n",
    "mydb = myclient[\"RT_reviews_oscars\"]\n",
    "mycol = mydb[\"Oscars\"]\n",
    "mycol.insert_many(oscar_grouped)"
   ],
   "id": "c7b7d82126d609b9",
   "outputs": [],
   "execution_count": null
  },
  {
   "metadata": {},
   "cell_type": "code",
   "source": [
    "# Conta quante categorie uniche ci sono nella colonna 'category'\n",
    "num_unique_categories = oscar_df['category'].nunique()\n",
    "print(f\"Numero di categorie uniche: {num_unique_categories}\")"
   ],
   "id": "2d09eaeb9e20baf6",
   "outputs": [],
   "execution_count": null
  }
 ],
 "metadata": {
  "kernelspec": {
   "display_name": "Python 3",
   "language": "python",
   "name": "python3"
  },
  "language_info": {
   "codemirror_mode": {
    "name": "ipython",
    "version": 2
   },
   "file_extension": ".py",
   "mimetype": "text/x-python",
   "name": "python",
   "nbconvert_exporter": "python",
   "pygments_lexer": "ipython2",
   "version": "2.7.6"
  }
 },
 "nbformat": 4,
 "nbformat_minor": 5
}
