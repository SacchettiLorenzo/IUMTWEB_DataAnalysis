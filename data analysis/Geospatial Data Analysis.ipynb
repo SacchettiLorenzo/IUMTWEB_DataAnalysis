{
 "cells": [
  {
   "cell_type": "code",
   "id": "initial_id",
   "metadata": {
    "collapsed": true
   },
   "source": [
    "import matplotlib.pyplot as plt\n",
    "import geopandas as gpd\n",
    "import numpy as np\n",
    "import pandas as pd\n",
    "import geodatasets\n",
    "from matplotlib import colormaps\n",
    "from geopandas import GeoDataFrame\n",
    "import folium\n",
    "from mpl_toolkits.axes_grid1.inset_locator import zoomed_inset_axes\n",
    "\n",
    "gdf = gpd.read_file('./ne_110m_admin_0_countries/ne_110m_admin_0_countries.shp')\n",
    "\n",
    "italy = gdf[gdf['NAME'] == 'Italy']\n",
    "\n",
    "movies_df = pd.read_csv('../../dataset/cleaned/movies.csv').set_index('id')\n",
    "countries_df = pd.read_csv('../../dataset/cleaned/countries.csv').set_index('id')\n",
    "languages_df = pd.read_csv('../../dataset/cleaned/languages.csv').set_index('id')\n",
    "genres_df = pd.read_csv('../../dataset/cleaned/genres.csv').set_index('id')\n",
    "actors_df = pd.read_csv('../../dataset/cleaned/actors.csv').set_index('id')\n",
    "crew_df = pd.read_csv('../../dataset/cleaned/crew.csv').set_index('id')\n",
    "\n"
   ],
   "outputs": [],
   "execution_count": null
  },
  {
   "metadata": {},
   "cell_type": "code",
   "source": "gdf",
   "id": "8eb9d1e67d43465b",
   "outputs": [],
   "execution_count": null
  },
  {
   "metadata": {},
   "cell_type": "code",
   "source": "",
   "id": "3312e077c179c241",
   "outputs": [],
   "execution_count": null
  },
  {
   "metadata": {},
   "cell_type": "markdown",
   "source": "replacing country name to allow perfect matching",
   "id": "5148db6a487ab216"
  },
  {
   "metadata": {},
   "cell_type": "code",
   "source": [
    "countries_df.replace(\"UK\", \"United Kingdom\", inplace=True)\n",
    "countries_df.replace(\"USA\", \"United States of America\", inplace=True)\n",
    "countries_df.replace(\"Russian Federation\", \"Russia\", inplace=True)\n",
    "countries_df.replace(\"Democratic Republic of Congo\", \"Dem. Rep. Congo\", inplace=True)\n",
    "countries_df.replace(\"Bolivarian Republic of Venezuela\", \"Venezuela\", inplace=True)\n",
    "countries_df.replace(\"South Sudan\", \"S. Sudan\", inplace=True)\n",
    "countries_df.replace(\"Central African Republic\", \"Central African Rep.\", inplace=True)\n",
    "countries_df.replace(\"Ivory Coast\", \"Côte d'Ivoire\", inplace=True)\n",
    "countries_df.replace(\"United Republic of Tanzania\", \"Tanzania\", inplace=True)\n",
    "countries_df.replace(\"Eritrea\", \"Eritrea\", inplace=True)\n",
    "countries_df.replace(\"Bosnia and Herzegovina\", \"Bosnia and Herz.\", inplace=True)\n",
    "countries_df.replace(\"Republic of Moldova\", \"Moldova\", inplace=True)\n",
    "countries_df.replace(\"Syrian Arab Republic\", \"Syria\", inplace=True)\n",
    "countries_df.replace(\"Lao People's Democratic Republic\", \"Laos\", inplace=True)\n",
    "countries_df.replace(\"Dominican Republic\", \"Dominican Rep.\", inplace=True)\n",
    "countries_df"
   ],
   "id": "496edd91f355f89c",
   "outputs": [],
   "execution_count": null
  },
  {
   "metadata": {},
   "cell_type": "code",
   "source": "movies_by_country = countries_df.groupby('country').size().reset_index(name='movie_counts')",
   "id": "e7c565dc5d5fbbb7",
   "outputs": [],
   "execution_count": null
  },
  {
   "metadata": {},
   "cell_type": "code",
   "source": "movies_by_country_map = pd.merge(gdf, movies_by_country, left_on='NAME', right_on='country', how='inner')",
   "id": "7c3fccb4720e0261",
   "outputs": [],
   "execution_count": null
  },
  {
   "metadata": {},
   "cell_type": "code",
   "source": "movies_by_country.sort_values('movie_counts', ascending=False)",
   "id": "b1c37a57458dd529",
   "outputs": [],
   "execution_count": null
  },
  {
   "metadata": {},
   "cell_type": "markdown",
   "source": [
    "Movie produced by Country\n",
    "###### It is possible to see that almost every country of the word produced less than 17000 movies. The higher movie counts are from countries that have a more developed movie production culture line USA, France, UK and India"
   ],
   "id": "9324279b7d2190c"
  },
  {
   "metadata": {},
   "cell_type": "code",
   "source": [
    "movies_by_country_map.plot(column='movie_counts',legend=True, cmap='tab20', edgecolor='black', linewidth=1, legend_kwds={'label':'Movie Counts'}, figsize=(20,10))\n",
    "plt.title('Movie By Country')\n",
    "plt.show()"
   ],
   "id": "1b3dfd5e6081013a",
   "outputs": [],
   "execution_count": null
  },
  {
   "metadata": {},
   "cell_type": "markdown",
   "source": "Focus on Europe",
   "id": "83614bb7e7ed5553"
  },
  {
   "metadata": {},
   "cell_type": "code",
   "source": [
    "europe = movies_by_country_map[(movies_by_country_map['SUBREGION'] == 'Southern Europe') | (movies_by_country_map['SUBREGION'] == 'Northern Europe') | (movies_by_country_map['SUBREGION'] == 'Eastern Europe') | (movies_by_country_map['SUBREGION'] == 'Western Europe')]\n",
    "fig, ax = plt.subplots(figsize=(10, 10))\n",
    "ax.set_xlim(-30, 50)\n",
    "ax.set_ylim(25, 75)\n",
    "europe.plot(column='movie_counts',legend=True, cmap='tab20', edgecolor='black',figsize=(20,10), linewidth=1, ax = ax, legend_kwds={'label':'Movie Counts'})\n",
    "plt.title('Movie in Europe')\n",
    "plt.show()"
   ],
   "id": "54af21e885ecc7d1",
   "outputs": [],
   "execution_count": null
  },
  {
   "metadata": {},
   "cell_type": "markdown",
   "source": "Focus on North america",
   "id": "6f02418b92d2146f"
  },
  {
   "metadata": {},
   "cell_type": "code",
   "source": [
    "america = movies_by_country_map[movies_by_country_map['CONTINENT'] == 'North America']\n",
    "fig, ax = plt.subplots(figsize=(10, 10))\n",
    "ax.set_xlim(-150, -50)\n",
    "ax.set_ylim(20, 75)\n",
    "america.plot(column='movie_counts',legend=True, cmap='tab20', edgecolor='black',figsize=(20,10), linewidth=1, ax = ax, legend_kwds={'label':'Movie Counts'})\n",
    "plt.title('Movie in North America')\n",
    "plt.show()"
   ],
   "id": "ee39ca7cafc2416f",
   "outputs": [],
   "execution_count": null
  },
  {
   "metadata": {},
   "cell_type": "code",
   "source": "movies_by_country_map.explore(column='movie_counts',legend=True, cmap='turbo', edgecolor='black', linewidth=1, legend_kwds={'label':'Movie Counts'},tooltip=False)",
   "id": "19886c8794ccf0e",
   "outputs": [],
   "execution_count": null
  },
  {
   "metadata": {},
   "cell_type": "code",
   "source": [
    "movies_genres_country = movies_df.join(genres_df).join(countries_df)\n",
    "movies_genres_country = movies_genres_country.groupby(['country','genre']).size().reset_index(name='movie_counts')\n",
    "movies_genres_country"
   ],
   "id": "9fc5b61a774fe020",
   "outputs": [],
   "execution_count": null
  },
  {
   "metadata": {},
   "cell_type": "code",
   "source": [
    "movies_genres_country_map = pd.merge(gdf, movies_genres_country, left_on='NAME', right_on='country', how='inner')\n",
    "movies_genres_country_map = movies_genres_country_map[~movies_genres_country_map.duplicated(subset=['country','genre'])]\n",
    "m = folium.Map(location=[0, 0], zoom_start=4)\n",
    "colors=['red','green','blue','gray','purple','brown']\n",
    "for id, row in movies_genres_country_map.iterrows():\n",
    "    folium.CircleMarker(\n",
    "        location=[row['LABEL_Y'], row['LABEL_X']],\n",
    "        radius=row['movie_counts']/150,\n",
    "        popup=f\"{row['genre']}\",\n",
    "        fill=False,\n",
    "        color=colors[id%len(colors)],\n",
    "    ).add_to(m)\n",
    "\n",
    "m"
   ],
   "id": "63f3f783ce60d8a3",
   "outputs": [],
   "execution_count": null
  },
  {
   "metadata": {},
   "cell_type": "markdown",
   "source": [
    "### Number of movies in relation with estimated population\n",
    "\n",
    "###### it is possible to see that some countries underperformed the movie production over the years. This could be caused by a number of reasons like poor economy. This trend is mainly localized in africa, india, china, middle east and sout east of asia  (high number of movies = low ratio)."
   ],
   "id": "62b0df53c4ce3cb9"
  },
  {
   "metadata": {},
   "cell_type": "code",
   "source": [
    "movies_by_country_map['movie_population'] = movies_by_country_map['POP_EST']/movies_by_country_map['movie_counts']\n",
    "movies_by_country_map.plot(column='movie_population',legend=True, cmap='tab20', edgecolor='black', linewidth=1, legend_kwds={'label':'movie_population'}, figsize=(20,10))\n",
    "plt.title('Movie By Country in relation with estimated population')\n",
    "plt.show()"
   ],
   "id": "938574fe12060805",
   "outputs": [],
   "execution_count": null
  },
  {
   "metadata": {},
   "cell_type": "markdown",
   "source": [
    "### Number of movies in relation with gdp (2019)\n",
    "\n",
    "###### It is possible to see that the movies production is not dependent on the gpd in every situation. We can see for example that China produced fewer movies than Italy despite the incredible difference in gdp. African countries has a low ratio that means that they produced a good amount of movies in relation with the gpd. Movie production in the most developed countries in terms of gdp perform as expected."
   ],
   "id": "140dde3214c9d4e8"
  },
  {
   "metadata": {},
   "cell_type": "code",
   "source": [
    "movies_2019 = movies_df[movies_df['date'] == 2019].copy()\n",
    "\n",
    "movies_2019_country = movies_df.join(countries_df)\n",
    "\n",
    "movies_2019_by_country = movies_2019_country.groupby('country').size().reset_index(name='movie_counts')\n",
    "\n",
    "movies_2019_by_country_map = pd.merge(gdf, movies_2019_by_country, left_on='NAME', right_on='country', how='inner')\n",
    "\n",
    "movies_2019_by_country_map['movie_gdp'] = movies_2019_by_country_map['GDP_MD']/movies_2019_by_country_map['movie_counts']\n",
    "movies_2019_by_country_map.plot(column='movie_gdp',legend=True, cmap='tab20', edgecolor='black', linewidth=1, legend_kwds={'label':'movie_population'}, figsize=(20,10))\n",
    "plt.title('Movie By Country in relation with Gross domestic product')\n",
    "plt.show()\n",
    "#(high number of movies = low ratio)"
   ],
   "id": "2000e20736615eb9",
   "outputs": [],
   "execution_count": null
  },
  {
   "metadata": {},
   "cell_type": "markdown",
   "source": [
    "### avg number of actors in a movie produced in a certain country\n",
    "\n",
    "###### the map shows that the countries with a higher movie production culture hired a grater amount of actors for their movies. As expected US, Canada, Western Europe, India, Australia perform over the average, Africa, Middle East, China perform below the average"
   ],
   "id": "8ab3fd48b9eff027"
  },
  {
   "metadata": {},
   "cell_type": "code",
   "source": [
    "movies_actors = movies_df.join(actors_df, lsuffix=\"_movies\", rsuffix=\"_actors\")\n",
    "\n",
    "actors_count = movies_actors.groupby('id').size().reset_index(name='actors_counts')\n",
    "\n",
    "movies_actors = movies_df.merge(actors_count, on='id')\n",
    "\n",
    "movies_actors_country = movies_actors.merge(countries_df,on='id')\n",
    "\n",
    "movies_actors_country = movies_actors_country[['actors_counts','country']]\n",
    "\n",
    "movies_actors_means = movies_actors_country.groupby('country').mean()\n",
    "\n",
    "movies_by_country_map = pd.merge(gdf, movies_actors_means, left_on='NAME', right_on='country', how='inner')\n",
    "\n",
    "movies_by_country_map.plot(column='actors_counts',legend=True, cmap='RdBu', edgecolor='black', linewidth=1, legend_kwds={'label':'avg number of actors'}, figsize=(20,10))\n",
    "plt.title('Average number of actors per film per country')\n",
    "plt.show()\n",
    "\n",
    "movies_actors_country.groupby('country').mean().mean()\n"
   ],
   "id": "a747a030aa73ce40",
   "outputs": [],
   "execution_count": null
  },
  {
   "metadata": {},
   "cell_type": "markdown",
   "source": [
    "### Avg number of crew that work for a movie for each country\n",
    "\n",
    "###### the map shows that almost every country defined an average of less than 10 crew members for each movie. Some outliers countries have a really high number of crew members but this could be due to a low number of movies. Most of the countries perform around the average but some of them has greater number like US, Canada, Italy, Australia, South East Asia"
   ],
   "id": "c1666d54b37e2bd2"
  },
  {
   "metadata": {},
   "cell_type": "code",
   "source": [
    "movies_crew = movies_df.join(crew_df, lsuffix=\"_movies\", rsuffix=\"_crew\")\n",
    "\n",
    "crew_count = movies_crew.groupby('id').size().reset_index(name='crew_counts')\n",
    "\n",
    "movies_crew = movies_df.merge(crew_count, on='id')\n",
    "\n",
    "movies_crew_country = movies_crew.merge(countries_df,on='id')\n",
    "\n",
    "movies_crew_country = movies_crew_country[['crew_counts','country']]\n",
    "\n",
    "movies_crew_means = movies_crew_country.groupby('country').mean()\n",
    "\n",
    "movies_by_country_map = pd.merge(gdf, movies_crew_means, left_on='NAME', right_on='country', how='inner')\n",
    "\n",
    "movies_by_country_map.plot(column='crew_counts',legend=True, cmap='seismic', edgecolor='black', linewidth=1, legend_kwds={'label':'avg number of crew'}, figsize=(20,10))\n",
    "plt.title('Average number of crew per film per country')\n",
    "plt.show()\n",
    "\n",
    "movies_crew_country.groupby('country').mean().mean()"
   ],
   "id": "302b770f01092235",
   "outputs": [],
   "execution_count": null
  }
 ],
 "metadata": {
  "kernelspec": {
   "display_name": "Python 3",
   "language": "python",
   "name": "python3"
  },
  "language_info": {
   "codemirror_mode": {
    "name": "ipython",
    "version": 2
   },
   "file_extension": ".py",
   "mimetype": "text/x-python",
   "name": "python",
   "nbconvert_exporter": "python",
   "pygments_lexer": "ipython2",
   "version": "2.7.6"
  }
 },
 "nbformat": 4,
 "nbformat_minor": 5
}
